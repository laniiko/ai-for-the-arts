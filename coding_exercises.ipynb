{
 "cells": [
  {
   "cell_type": "markdown",
   "id": "43cb08a9",
   "metadata": {},
   "source": [
    "learning basic programming concepts\n",
    "\n",
    "want to have ease with understanding the programming langauges"
   ]
  },
  {
   "cell_type": "markdown",
   "id": "45d51add",
   "metadata": {},
   "source": [
    "Hello, World!\n",
    "The following code was created as my first attmept at programming in this course. In the process of learning and understanding how to write and run code in GitHub Codespaces."
   ]
  },
  {
   "cell_type": "code",
   "execution_count": 2,
   "id": "7a7afba9",
   "metadata": {},
   "outputs": [
    {
     "name": "stdout",
     "output_type": "stream",
     "text": [
      "Hello, World!\n"
     ]
    }
   ],
   "source": [
    "print(\"Hello, World!\")"
   ]
  },
  {
   "cell_type": "markdown",
   "id": "0abc4d72",
   "metadata": {},
   "source": [
    "Printing. Could you suggest a python\n",
    "code for ‘Hello, world!’ to demonstrate the concept of printing to a\n",
    "complete beginner in programming? Please explain the code step-by-step\n",
    "highlighting any key aspects.  \n",
    "\n",
    "Key learning outcomes:- AI copilot provides a clear answer, It gave me a simple answer compared to the one given in the lab notes however, it always gives the bais and main information. "
   ]
  },
  {
   "cell_type": "code",
   "execution_count": 1,
   "id": "cc0cfbe3",
   "metadata": {},
   "outputs": [
    {
     "name": "stdout",
     "output_type": "stream",
     "text": [
      "Hello, world!\n"
     ]
    }
   ],
   "source": [
    "print(\"Hello, world!\")"
   ]
  }
 ],
 "metadata": {
  "kernelspec": {
   "display_name": "Python 3",
   "language": "python",
   "name": "python3"
  },
  "language_info": {
   "codemirror_mode": {
    "name": "ipython",
    "version": 3
   },
   "file_extension": ".py",
   "mimetype": "text/x-python",
   "name": "python",
   "nbconvert_exporter": "python",
   "pygments_lexer": "ipython3",
   "version": "3.12.1"
  }
 },
 "nbformat": 4,
 "nbformat_minor": 5
}
