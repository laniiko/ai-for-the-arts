{
 "cells": [
  {
   "cell_type": "markdown",
   "id": "43cb08a9",
   "metadata": {},
   "source": [
    "learning basic programming concepts\n",
    "\n",
    "want to have ease with understanding the programming langauges"
   ]
  },
  {
   "cell_type": "markdown",
   "id": "45d51add",
   "metadata": {},
   "source": [
    "Hello, World!\n",
    "The following code was created as my first attmept at programming in this course. In the process of learning and understanding how to write and run code in GitHub Codespaces."
   ]
  },
  {
   "cell_type": "code",
   "execution_count": null,
   "id": "7a7afba9",
   "metadata": {},
   "outputs": [],
   "source": [
    "print(\"Hello, World!\")"
   ]
  }
 ],
 "metadata": {
  "kernelspec": {
   "display_name": "Python 3",
   "language": "python",
   "name": "python3"
  },
  "language_info": {
   "name": "python",
   "version": "3.12.1"
  }
 },
 "nbformat": 4,
 "nbformat_minor": 5
}
